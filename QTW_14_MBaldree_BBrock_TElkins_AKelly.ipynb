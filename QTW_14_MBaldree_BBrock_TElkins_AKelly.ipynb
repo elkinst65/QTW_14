{
 "cells": [
  {
   "cell_type": "markdown",
   "metadata": {
    "deletable": true,
    "editable": true
   },
   "source": [
    "<a id=toc></a>\n",
    "# MSDS 7333 - Week 14 Case Study: Analyzing Airline Flight Delays\n",
    "\n",
    "### Investigators\n",
    "- [Matt Baldree](mailto:mbaldree@smu.edu?subject=lab14)\n",
    "- [Ben Brock](bbrock@smu.edu?subject=lab14)\n",
    "- [Tom Elkins](telkins@smu.edu?subject=lab14)\n",
    "- [Austin Kelly](ajkelly@smu.edu?subject=lab14)\n",
    "\n",
    "\n",
    "<div style='margin-left:10%;margin-right:10%;margin-top:15px;background-color:#d3d3d3;padding:5px;'>\n",
    "    <h3>Instructions</h3>\n",
    "    <p>Work with the airline data set (use R or Python to manage out-of-core).</p>\n",
    "     <p>Answer the following questions by using the split-apply-combine technique</p>\n",
    "    <ol>\n",
    "        <li>Which airports are most likely to be delayed flying out of or into?</li>\n",
    "        <li>Which flights with same origin and destination are most likely to be delayed?</li>\n",
    "        <li>Can you regress how delayed a flight will be before it is delayed?</li>\n",
    "        <li>What are the most important features for this regression?\n",
    "            <ul>\n",
    "            <li>Remember to properly cross-validate models.\n",
    "            <li>Use meaningful evaluation criteria.\n",
    "            <li>Create at least one new feature variable for the regression.\n",
    "            </ul>\n",
    "            \n",
    "    </ol> \n",
    "            \n",
    "\n",
    "    <p>Report Sections:</p>\n",
    "    <ol>\n",
    "        <li>[Introduction](#introduction) <b>(5 points)</b></li>\n",
    "        <li>[Background](#background) <b>(10 points)</b></li>\n",
    "        <li>[Methods](#methods) <b>(30 points)</b></li>\n",
    "        <li>[Results](#results) <b>(30 points)</b></li>\n",
    "        <li>[Conclusion](#conclusion) <b>(5 points)</b></li>\n",
    "        <li>[Bibliography and Citation](#biblio) <b>(5 points)</b></li>\n",
    "        <li>[Code](#code) <b>(5 points)</b></li>\n",
    "    </ol>\n",
    "     <p>Other Grading Criterium:</p>\n",
    "    <ol>\n",
    "        <li>Grammar and Organization <b>(10 points)</b></li>\n",
    "    </ol>\n",
    "</div>"
   ]
  },
  {
   "cell_type": "markdown",
   "metadata": {
    "deletable": true,
    "editable": true
   },
   "source": [
    "<a id='introduction'></a>\n",
    "## 1 - Introduction\n",
    "<div style='margin-left:10%;margin-right:10%;margin-top:15px;background-color:#d3d3d3;padding:10px;'>\n",
    "<h3>Introduction (<b>5 points total</b>)</h3>\n",
    "</div>"
   ]
  },
  {
   "cell_type": "markdown",
   "metadata": {
    "deletable": true,
    "editable": true
   },
   "source": [
    "### Explain what  we will be working with and how we intend to approach the issue"
   ]
  },
  {
   "cell_type": "markdown",
   "metadata": {
    "deletable": true,
    "editable": true
   },
   "source": [
    "For this case study, we are tasked with acquiring and combining airline data from 22 separate years of airline history. Once the data is downloaded, it will be parsed and appended to a data frame in which we will be able to determine the statistics of said data. With such a large amount of data, it will be notably difficult to be able to use conventional methods to aggregate and perform calculations with conventional methods. \n",
    "\n",
    "The data in question totals just over 123.5 Million records and sizes up to be about 14 Gigabytes **uncompressed** of just csv data. \n",
    "\n",
    "That's a lot of data.\n",
    "\n",
    "In order to be able to not only handle the data but also perform calculations over the dataframe, we will need to utilize more than just a single core of the (current) 4-core processors embedded within our machines. When more than a single processor core is utilized, we venture into the realm of parallel computing. As we parse and sift through the data, parallel computig allows for a rather novel idea: break the data down into even parts and process all three parts at the same time. Many titans of industry use platforms such as Hadoop Distributed File System (HDFS) to manage massive amounts of data relatively quickly with clusters of commodity servers. When a massive datafile comes through (in our case, 12-14 Gb), instead of just using a single core to process all of the data, we will use three cores to process 4-5 Gb of data _each_, leaving a spare core (the master) to manage all three cores.\n",
    "\n",
    "For this case study, we were met with many roadblocks such as software compatibility with hardware along with version control. We found it was quite difficult to manage older versions of R alongside the newest version of Python, all in the same Jupyter notebook. To minimize these roadblocks, our team utilized the Python 3.4 package [Dask](https://dask.pydata.org/en/latest/) along with Python 2.7's [Graphlab-Create](https://turi.com/). Once these processes were executed in their entirety, we decided to cross-validate our findings by generating an equivalent Javascript environment to independently test our findings. "
   ]
  },
  {
   "cell_type": "markdown",
   "metadata": {
    "deletable": true,
    "editable": true
   },
   "source": [
    "[&uarr; ToC](#toc)"
   ]
  },
  {
   "cell_type": "markdown",
   "metadata": {
    "deletable": true,
    "editable": true
   },
   "source": [
    "<a id=\"background\"></a>\n",
    "## 2 - Background\n",
    "\n",
    "<div style='margin-left:10%;margin-right:10%;margin-top:15px;background-color:#d3d3d3;padding:10px;'>\n",
    "<h3>Background (<b>10 points total</b>)</h3>\n",
    "</div>"
   ]
  },
  {
   "cell_type": "markdown",
   "metadata": {
    "deletable": true,
    "editable": true
   },
   "source": [
    "The dataset our group acquired was comprised of just over 123 Million records with 29 attributes. The attributes are described in this table:"
   ]
  },
  {
   "cell_type": "markdown",
   "metadata": {
    "deletable": true,
    "editable": true
   },
   "source": [
    "### Variable descriptions of original data set\n",
    "|Item|Name|Description|\n",
    "|:--:|:--|:--|\n",
    "|1|\tYear\t|1987-2008|\n",
    "|2|\tMonth\t|1-12|\n",
    "|3|\tDayofMonth\t|1-31|\n",
    "|4|\tDayOfWeek\t|1 (Monday) - 7 (Sunday)|\n",
    "|5|\tDepTime\t|actual departure time (local, hhmm)|\n",
    "|6|\tCRSDepTime\t|scheduled departure time (local, hhmm)|\n",
    "|7|\tArrTime\tactual |arrival time (local, hhmm)|\n",
    "|8|\tCRSArrTime\t|scheduled arrival time (local, hhmm)|\n",
    "|9|\tUniqueCarrier\t|unique carrier code|\n",
    "|10|\tFlightNum\t|flight number|\n",
    "|11|\tTailNum\tplane |tail number|\n",
    "|12|\tActualElapsedTime\t|in minutes|\n",
    "|13|\tCRSElapsedTime\t|in minutes|\n",
    "|14|\tAirTime\t|in minutes|\n",
    "|15|\tArrDelay\t|arrival delay, in minutes|\n",
    "|16|\tDepDelay\t|departure delay, in minutes|\n",
    "|17|\tOrigin\t|origin IATA airport code|\n",
    "|18|\tDest\t|destination IATA airport code|\n",
    "|19|\tDistance\t|in miles|\n",
    "|20|\tTaxiIn\t|taxi in time, in minutes|\n",
    "|21|\tTaxiOut\t|taxi out time in minutes|\n",
    "|22|\tCancelled\t|was the flight cancelled?|\n",
    "|23|\tCancellationCode\t|reason for cancellation (A = carrier, B = weather, C = NAS, D = security)|\n",
    "|24|\tDiverted\t|1 = yes, 0 = no|\n",
    "|25|\tCarrierDelay\t|in minutes|\n",
    "|26|\tWeatherDelay\t|in minutes|\n",
    "|27|\tNASDelay\t|in minutes|\n",
    "|28|\tSecurityDelay\t|in minutes|\n",
    "|29|\tLateAircraftDelay\t|in minutes|"
   ]
  },
  {
   "cell_type": "markdown",
   "metadata": {
    "deletable": true,
    "editable": true
   },
   "source": [
    "The three most-important (and required) questions are:\n",
    "\n",
    "(click on each question to navigate to the section of the notebook)"
   ]
  },
  {
   "cell_type": "markdown",
   "metadata": {
    "deletable": true,
    "editable": true
   },
   "source": [
    "<li>[Q1.What airports have the most delayed departures and arrivals?](#Question1)</li> \n",
    "<li>[Q2. What flights are most frequently delayed with same origin and destination?](#Question2)</li>\n",
    "<li>[Q3. Can you predict a flight's delayed time in minutes?](#Question3)</li>"
   ]
  },
  {
   "cell_type": "markdown",
   "metadata": {
    "deletable": true,
    "editable": true
   },
   "source": [
    "While these questions seem obvious to us, it is important to clearly identify our intent of what we are looking to explore in order to discover an appropriate answer to the proper questions. \n",
    "\n",
    "First and foremost, we will want to investigate (using the basic aggregation functions) just which airports are the main culprits for delayed departures and which are subject to the late arrivals. It must be declared a flight is considered to be delayed if it leaves or arrives more than 15 minutes from it's scheduled time. Something to be investigated at a later date (when adequate resources are available) is whether or not the late departures influence the late arrivals more than the late arrivals affect the late departures.\n",
    "\n",
    "The second question begs investigation into whether or not there is a specific route plagued with said delays. With so many unique routes, it will be interesting to see whether or not one route really sticks out over the rest. Since our analysis is limited to our data, we will not be seeing mnay \"entire\" routes. This is attributed to the simple fact that many entire routes (e.g. New York to Los Angeles) are _typically_ comprised of multiple sub-routes. Thus, we will be focusing on the routes which comprise the longer routes. This does not mean that the longer routes are not included, however (we will see an example of this later). \n",
    "\n",
    "With all of the data we have at our disposal, we will explore the possibility of being able to predict just _how_ delayed a flight will be based on the many factors involved. While we do have numerous factors to possibly influence the outcome of our predictions, there are also several factors outside of the scope of this study that will be considered to be confounding variables. One such variable is the weather of the locations involved. As difficult as it may be to predict the delay of a particular flight based on the day of the week coupled with the carrier, it will be far more difficult to predict exact snowfall along with wind speed for the area in question, ultimately grounding unsuspecting travelers. "
   ]
  },
  {
   "cell_type": "markdown",
   "metadata": {
    "deletable": true,
    "editable": true
   },
   "source": [
    "[&uarr; ToC](#toc)"
   ]
  },
  {
   "cell_type": "markdown",
   "metadata": {
    "deletable": true,
    "editable": true
   },
   "source": [
    "<a id=\"methods\"></a>\n",
    "## 3 - Methods\n",
    "\n",
    "<div style='margin-left:10%;margin-right:10%;margin-top:15px;background-color:#d3d3d3;padding:10px;'>\n",
    "<h3>Methods (<b>30 points total</b>)</h3>"
   ]
  },
  {
   "cell_type": "markdown",
   "metadata": {
    "deletable": true,
    "editable": true
   },
   "source": [
    "### Disuss Dask approach and our decision to go this route"
   ]
  },
  {
   "cell_type": "markdown",
   "metadata": {},
   "source": [
    "In the videos, one package Professor Larson used was GraphLab Create to download and explore the massive dataset. Back in 2013, GraphLab Create lost support on Windows machines and now is primarily used on machines with a Linux/Unix operating system. Since the majority of our group are Windows-based, we decided to take a different approach by using the package [Dask](https://dask.pydata.org/en/latest/).\n",
    "\n",
    "_\"Dask is a flexible parallel computing library for analytic computing.\"_ It is advantageous for us to use it for this project as it's main two components are dynamic task scheduling and Big Data Collections. While dynamic task scheduling is used for computation, this is leveraged by the dataframe capabilities provided by the \"Big Data Collections.\""
   ]
  },
  {
   "cell_type": "code",
   "execution_count": 4,
   "metadata": {
    "collapsed": true,
    "deletable": true,
    "editable": true
   },
   "outputs": [],
   "source": [
    "# general stuff\n",
    "import locale\n",
    "# locale.setlocale(locale.LC_ALL, 'en_US')\n",
    "import numpy as np\n",
    "import pandas as pd\n",
    "import os\n",
    "from matplotlib import pyplot as plt\n",
    "import dask.dataframe as dd\n",
    "from dask import compute, persist\n",
    "from dask.distributed import Client, progress\n",
    "pd.set_option('display.max_columns', None)\n",
    "pd.set_option('compute.use_bottleneck', True)\n",
    "pd.set_option('compute.use_numexpr', True)\n",
    "\n",
    "%matplotlib inline\n",
    "plt.style.use('ggplot')\n",
    "# !pwd\n",
    "\n",
    "# flags\n",
    "PURGE_DATA = True"
   ]
  },
  {
   "cell_type": "markdown",
   "metadata": {},
   "source": [
    "#### Here is where we get a look at what the specifications are of the machine used to run this study &darr;"
   ]
  },
  {
   "cell_type": "code",
   "execution_count": 2,
   "metadata": {
    "collapsed": false,
    "deletable": true,
    "editable": true,
    "scrolled": true
   },
   "outputs": [
    {
     "data": {
      "text/html": [
       "<table style=\"border: 2px solid white;\">\n",
       "<tr>\n",
       "<td style=\"vertical-align: top; border: 0px solid white\">\n",
       "<h3>Client</h3>\n",
       "<ul>\n",
       "  <li><b>Scheduler: </b>tcp://127.0.0.1:51308\n",
       "  <li><b>Dashboard: </b><a href='http://127.0.0.1:8787' target='_blank'>http://127.0.0.1:8787</a>\n",
       "</ul>\n",
       "</td>\n",
       "<td style=\"vertical-align: top; border: 0px solid white\">\n",
       "<h3>Cluster</h3>\n",
       "<ul>\n",
       "  <li><b>Workers: </b>4</li>\n",
       "  <li><b>Cores: </b>4</li>\n",
       "  <li><b>Memory: </b>10.22 GB</li>\n",
       "</ul>\n",
       "</td>\n",
       "</tr>\n",
       "</table>"
      ],
      "text/plain": [
       "<Client: scheduler='tcp://127.0.0.1:51308' processes=4 cores=4>"
      ]
     },
     "execution_count": 2,
     "metadata": {},
     "output_type": "execute_result"
    }
   ],
   "source": [
    "# start Dask distributed client and print out stats\n",
    "\n",
    "c = Client()\n",
    "c"
   ]
  },
  {
   "cell_type": "markdown",
   "metadata": {},
   "source": [
    "With these next cells, we give the host machine the ability to \"purge\" the existing data from the directory and import the original data. This can be quite helpful as only a couple of files were originally used to cut down on the total resources required for the initial computation. We included some visual signals to show the overall progress of the data being downloaded to highlight an unintended event such as being caught in a loop. "
   ]
  },
  {
   "cell_type": "code",
   "execution_count": 4,
   "metadata": {
    "collapsed": true,
    "deletable": true,
    "editable": true
   },
   "outputs": [],
   "source": [
    "# if loading data, then purge existing data directory.\n",
    "\n",
    "if PURGE_DATA:\n",
    "    # delete /data directory\n",
    "    from shutil import rmtree\n",
    "\n",
    "    path = 'data'\n",
    "    if os.path.exists(path):\n",
    "        rmtree(path)\n",
    "    \n",
    "    # make /data if it doesn't exist\n",
    "    path = 'data'\n",
    "    if not os.path.exists(path):\n",
    "        os.mkdir(path)"
   ]
  },
  {
   "cell_type": "markdown",
   "metadata": {},
   "source": [
    "For this cell &darr;, it is not recommended for the user to execute on their own if they do not have to. This is the inital download and preprocessing of the data to be used for the case study itself. "
   ]
  },
  {
   "cell_type": "code",
   "execution_count": 6,
   "metadata": {
    "collapsed": false,
    "deletable": true,
    "editable": true
   },
   "outputs": [
    {
     "name": "stdout",
     "output_type": "stream",
     "text": [
      "Wall time: 17min 4s\n",
      "downloaded file: data/1987.csv , of size (MB): 127.2\n",
      "downloaded file: data/1988.csv , of size (MB): 501.0\n",
      "downloaded file: data/1989.csv , of size (MB): 486.5\n",
      "downloaded file: data/1990.csv , of size (MB): 509.2\n",
      "downloaded file: data/1991.csv , of size (MB): 491.2\n",
      "downloaded file: data/1992.csv , of size (MB): 492.3\n",
      "downloaded file: data/1993.csv , of size (MB): 490.8\n",
      "downloaded file: data/1994.csv , of size (MB): 501.6\n",
      "downloaded file: data/1995.csv , of size (MB): 530.8\n",
      "downloaded file: data/1996.csv , of size (MB): 533.9\n",
      "downloaded file: data/1997.csv , of size (MB): 540.3\n",
      "downloaded file: data/1998.csv , of size (MB): 538.4\n",
      "downloaded file: data/1999.csv , of size (MB): 552.9\n",
      "downloaded file: data/2000.csv , of size (MB): 570.2\n",
      "downloaded file: data/2001.csv , of size (MB): 600.4\n",
      "downloaded file: data/2002.csv , of size (MB): 530.5\n",
      "downloaded file: data/2003.csv , of size (MB): 626.7\n",
      "downloaded file: data/2004.csv , of size (MB): 669.9\n",
      "downloaded file: data/2005.csv , of size (MB): 671.0\n",
      "downloaded file: data/2006.csv , of size (MB): 672.1\n",
      "downloaded file: data/2007.csv , of size (MB): 702.9\n",
      "downloaded file: data/2008.csv , of size (MB): 689.4\n",
      "Number of files downloaded: 22 for a total size (MB): 12029.2\n"
     ]
    }
   ],
   "source": [
    "# if loading data, download files and decompress them in parallel.\n",
    "\n",
    "DOWNLOAD_ONE_FILE_ONLY = False\n",
    "\n",
    "if PURGE_DATA:\n",
    "    import urllib.request\n",
    "    import shutil\n",
    "    import bz2\n",
    "    \n",
    "    def download_file(baseurl, yr):\n",
    "        file_name = ''\n",
    "\n",
    "        url_of_data_file = baseurl%(yr)\n",
    "        file_name = 'data/%d.csv'%(yr)\n",
    "        size = 0\n",
    "\n",
    "        print('downloading', url_of_data_file, 'to', file_name)\n",
    "        decompressor = bz2.BZ2Decompressor()\n",
    "\n",
    "        # download file and decompress it\n",
    "        with urllib.request.urlopen(url_of_data_file) as response, open(file_name, 'wb') as out_file:\n",
    "                data = decompressor.decompress(response.read())\n",
    "                out_file.write(data)\n",
    "                size = len(data)\n",
    "                print('file size (MB)', locale.format('%.1f', size/1000000, grouping=True))\n",
    "\n",
    "        return(file_name, size)\n",
    "    \n",
    "    def print_files(files):\n",
    "        totalSize = 0        \n",
    "        for f in files:\n",
    "            size = f[1]/1000000\n",
    "            totalSize += size\n",
    "            print('downloaded file:', f[0], ', of size (MB):', \n",
    "                  locale.format('%.1f', size, grouping=True))\n",
    "            \n",
    "        print('Number of files downloaded:', len(files), 'for a total size (MB):', \n",
    "              locale.format('%.1f', totalSize, grouping=True))\n",
    "\n",
    "\n",
    "    if DOWNLOAD_ONE_FILE_ONLY:\n",
    "        # testing\n",
    "        download_file('http://stat-computing.org/dataexpo/2009/%d.csv.bz2', 1988)\n",
    "    else:    \n",
    "        # download airline data from 1987 to 2009\n",
    "        yrs = range(1987, 2009)\n",
    "        baseurl = 'http://stat-computing.org/dataexpo/2009/%d.csv.bz2'\n",
    "\n",
    "        from dask import delayed\n",
    "        download_file = delayed(download_file)\n",
    "\n",
    "        files = [download_file(baseurl, yr) for yr in yrs]\n",
    "        files = delayed(files)\n",
    "\n",
    "        %time files = files.compute()   \n",
    "      \n",
    "        print_files(files)"
   ]
  },
  {
   "cell_type": "markdown",
   "metadata": {},
   "source": [
    "Just a little sanity check to ensure everything was processed correctly:"
   ]
  },
  {
   "cell_type": "code",
   "execution_count": 7,
   "metadata": {
    "collapsed": false
   },
   "outputs": [
    {
     "name": "stdout",
     "output_type": "stream",
     "text": [
      "csv file format\n"
     ]
    }
   ],
   "source": [
    "# print the head of a csv file\n",
    "\n",
    "print('csv file format')\n",
    "# !head data/1987.csv"
   ]
  },
  {
   "cell_type": "markdown",
   "metadata": {},
   "source": [
    "Now that we know the data has been properly loaded, let's use this time to ensure we load everything into a dataframe, which are typically used for massive datasets and matrix operations. "
   ]
  },
  {
   "cell_type": "code",
   "execution_count": 26,
   "metadata": {
    "collapsed": false,
    "deletable": true,
    "editable": true,
    "scrolled": false
   },
   "outputs": [
    {
     "name": "stdout",
     "output_type": "stream",
     "text": [
      "Loading data\\*.csv files\n",
      "Wall time: 172 ms\n",
      "year                 float64\n",
      "month                float64\n",
      "dayofmonth           float64\n",
      "dayofweek            float64\n",
      "deptime              float64\n",
      "crsdeptime           float64\n",
      "arrtime              float64\n",
      "crsarrtime           float64\n",
      "uniquecarrier         object\n",
      "flightnum            float64\n",
      "tailnum               object\n",
      "actualelapsedtime    float64\n",
      "crselapsedtime       float64\n",
      "airtime              float64\n",
      "arrdelay             float64\n",
      "depdelay             float64\n",
      "origin                object\n",
      "dest                  object\n",
      "distance             float64\n",
      "taxiin               float64\n",
      "taxiout              float64\n",
      "cancelled            float64\n",
      "cancellationcode      object\n",
      "diverted             float64\n",
      "carrierdelay         float64\n",
      "weatherdelay         float64\n",
      "nasdelay             float64\n",
      "securitydelay        float64\n",
      "lateaircraftdelay    float64\n",
      "dtype: object\n"
     ]
    },
    {
     "data": {
      "text/html": [
       "<div>\n",
       "<style>\n",
       "    .dataframe thead tr:only-child th {\n",
       "        text-align: right;\n",
       "    }\n",
       "\n",
       "    .dataframe thead th {\n",
       "        text-align: left;\n",
       "    }\n",
       "\n",
       "    .dataframe tbody tr th {\n",
       "        vertical-align: top;\n",
       "    }\n",
       "</style>\n",
       "<table border=\"1\" class=\"dataframe\">\n",
       "  <thead>\n",
       "    <tr style=\"text-align: right;\">\n",
       "      <th></th>\n",
       "      <th>year</th>\n",
       "      <th>month</th>\n",
       "      <th>dayofmonth</th>\n",
       "      <th>dayofweek</th>\n",
       "      <th>deptime</th>\n",
       "      <th>crsdeptime</th>\n",
       "      <th>arrtime</th>\n",
       "      <th>crsarrtime</th>\n",
       "      <th>uniquecarrier</th>\n",
       "      <th>flightnum</th>\n",
       "      <th>tailnum</th>\n",
       "      <th>actualelapsedtime</th>\n",
       "      <th>crselapsedtime</th>\n",
       "      <th>airtime</th>\n",
       "      <th>arrdelay</th>\n",
       "      <th>depdelay</th>\n",
       "      <th>origin</th>\n",
       "      <th>dest</th>\n",
       "      <th>distance</th>\n",
       "      <th>taxiin</th>\n",
       "      <th>taxiout</th>\n",
       "      <th>cancelled</th>\n",
       "      <th>cancellationcode</th>\n",
       "      <th>diverted</th>\n",
       "      <th>carrierdelay</th>\n",
       "      <th>weatherdelay</th>\n",
       "      <th>nasdelay</th>\n",
       "      <th>securitydelay</th>\n",
       "      <th>lateaircraftdelay</th>\n",
       "    </tr>\n",
       "  </thead>\n",
       "  <tbody>\n",
       "    <tr>\n",
       "      <th>0</th>\n",
       "      <td>1987.0</td>\n",
       "      <td>10.0</td>\n",
       "      <td>14.0</td>\n",
       "      <td>3.0</td>\n",
       "      <td>741.0</td>\n",
       "      <td>730.0</td>\n",
       "      <td>912.0</td>\n",
       "      <td>849.0</td>\n",
       "      <td>PS</td>\n",
       "      <td>1451.0</td>\n",
       "      <td>NaN</td>\n",
       "      <td>91.0</td>\n",
       "      <td>79.0</td>\n",
       "      <td>NaN</td>\n",
       "      <td>23.0</td>\n",
       "      <td>11.0</td>\n",
       "      <td>SAN</td>\n",
       "      <td>SFO</td>\n",
       "      <td>447.0</td>\n",
       "      <td>NaN</td>\n",
       "      <td>NaN</td>\n",
       "      <td>0.0</td>\n",
       "      <td>NaN</td>\n",
       "      <td>0.0</td>\n",
       "      <td>NaN</td>\n",
       "      <td>NaN</td>\n",
       "      <td>NaN</td>\n",
       "      <td>NaN</td>\n",
       "      <td>NaN</td>\n",
       "    </tr>\n",
       "    <tr>\n",
       "      <th>1</th>\n",
       "      <td>1987.0</td>\n",
       "      <td>10.0</td>\n",
       "      <td>15.0</td>\n",
       "      <td>4.0</td>\n",
       "      <td>729.0</td>\n",
       "      <td>730.0</td>\n",
       "      <td>903.0</td>\n",
       "      <td>849.0</td>\n",
       "      <td>PS</td>\n",
       "      <td>1451.0</td>\n",
       "      <td>NaN</td>\n",
       "      <td>94.0</td>\n",
       "      <td>79.0</td>\n",
       "      <td>NaN</td>\n",
       "      <td>14.0</td>\n",
       "      <td>-1.0</td>\n",
       "      <td>SAN</td>\n",
       "      <td>SFO</td>\n",
       "      <td>447.0</td>\n",
       "      <td>NaN</td>\n",
       "      <td>NaN</td>\n",
       "      <td>0.0</td>\n",
       "      <td>NaN</td>\n",
       "      <td>0.0</td>\n",
       "      <td>NaN</td>\n",
       "      <td>NaN</td>\n",
       "      <td>NaN</td>\n",
       "      <td>NaN</td>\n",
       "      <td>NaN</td>\n",
       "    </tr>\n",
       "    <tr>\n",
       "      <th>2</th>\n",
       "      <td>1987.0</td>\n",
       "      <td>10.0</td>\n",
       "      <td>17.0</td>\n",
       "      <td>6.0</td>\n",
       "      <td>741.0</td>\n",
       "      <td>730.0</td>\n",
       "      <td>918.0</td>\n",
       "      <td>849.0</td>\n",
       "      <td>PS</td>\n",
       "      <td>1451.0</td>\n",
       "      <td>NaN</td>\n",
       "      <td>97.0</td>\n",
       "      <td>79.0</td>\n",
       "      <td>NaN</td>\n",
       "      <td>29.0</td>\n",
       "      <td>11.0</td>\n",
       "      <td>SAN</td>\n",
       "      <td>SFO</td>\n",
       "      <td>447.0</td>\n",
       "      <td>NaN</td>\n",
       "      <td>NaN</td>\n",
       "      <td>0.0</td>\n",
       "      <td>NaN</td>\n",
       "      <td>0.0</td>\n",
       "      <td>NaN</td>\n",
       "      <td>NaN</td>\n",
       "      <td>NaN</td>\n",
       "      <td>NaN</td>\n",
       "      <td>NaN</td>\n",
       "    </tr>\n",
       "    <tr>\n",
       "      <th>3</th>\n",
       "      <td>1987.0</td>\n",
       "      <td>10.0</td>\n",
       "      <td>18.0</td>\n",
       "      <td>7.0</td>\n",
       "      <td>729.0</td>\n",
       "      <td>730.0</td>\n",
       "      <td>847.0</td>\n",
       "      <td>849.0</td>\n",
       "      <td>PS</td>\n",
       "      <td>1451.0</td>\n",
       "      <td>NaN</td>\n",
       "      <td>78.0</td>\n",
       "      <td>79.0</td>\n",
       "      <td>NaN</td>\n",
       "      <td>-2.0</td>\n",
       "      <td>-1.0</td>\n",
       "      <td>SAN</td>\n",
       "      <td>SFO</td>\n",
       "      <td>447.0</td>\n",
       "      <td>NaN</td>\n",
       "      <td>NaN</td>\n",
       "      <td>0.0</td>\n",
       "      <td>NaN</td>\n",
       "      <td>0.0</td>\n",
       "      <td>NaN</td>\n",
       "      <td>NaN</td>\n",
       "      <td>NaN</td>\n",
       "      <td>NaN</td>\n",
       "      <td>NaN</td>\n",
       "    </tr>\n",
       "    <tr>\n",
       "      <th>4</th>\n",
       "      <td>1987.0</td>\n",
       "      <td>10.0</td>\n",
       "      <td>19.0</td>\n",
       "      <td>1.0</td>\n",
       "      <td>749.0</td>\n",
       "      <td>730.0</td>\n",
       "      <td>922.0</td>\n",
       "      <td>849.0</td>\n",
       "      <td>PS</td>\n",
       "      <td>1451.0</td>\n",
       "      <td>NaN</td>\n",
       "      <td>93.0</td>\n",
       "      <td>79.0</td>\n",
       "      <td>NaN</td>\n",
       "      <td>33.0</td>\n",
       "      <td>19.0</td>\n",
       "      <td>SAN</td>\n",
       "      <td>SFO</td>\n",
       "      <td>447.0</td>\n",
       "      <td>NaN</td>\n",
       "      <td>NaN</td>\n",
       "      <td>0.0</td>\n",
       "      <td>NaN</td>\n",
       "      <td>0.0</td>\n",
       "      <td>NaN</td>\n",
       "      <td>NaN</td>\n",
       "      <td>NaN</td>\n",
       "      <td>NaN</td>\n",
       "      <td>NaN</td>\n",
       "    </tr>\n",
       "  </tbody>\n",
       "</table>\n",
       "</div>"
      ],
      "text/plain": [
       "     year  month  dayofmonth  dayofweek  deptime  crsdeptime  arrtime  \\\n",
       "0  1987.0   10.0        14.0        3.0    741.0       730.0    912.0   \n",
       "1  1987.0   10.0        15.0        4.0    729.0       730.0    903.0   \n",
       "2  1987.0   10.0        17.0        6.0    741.0       730.0    918.0   \n",
       "3  1987.0   10.0        18.0        7.0    729.0       730.0    847.0   \n",
       "4  1987.0   10.0        19.0        1.0    749.0       730.0    922.0   \n",
       "\n",
       "   crsarrtime uniquecarrier  flightnum tailnum  actualelapsedtime  \\\n",
       "0       849.0            PS     1451.0     NaN               91.0   \n",
       "1       849.0            PS     1451.0     NaN               94.0   \n",
       "2       849.0            PS     1451.0     NaN               97.0   \n",
       "3       849.0            PS     1451.0     NaN               78.0   \n",
       "4       849.0            PS     1451.0     NaN               93.0   \n",
       "\n",
       "   crselapsedtime  airtime  arrdelay  depdelay origin dest  distance  taxiin  \\\n",
       "0            79.0      NaN      23.0      11.0    SAN  SFO     447.0     NaN   \n",
       "1            79.0      NaN      14.0      -1.0    SAN  SFO     447.0     NaN   \n",
       "2            79.0      NaN      29.0      11.0    SAN  SFO     447.0     NaN   \n",
       "3            79.0      NaN      -2.0      -1.0    SAN  SFO     447.0     NaN   \n",
       "4            79.0      NaN      33.0      19.0    SAN  SFO     447.0     NaN   \n",
       "\n",
       "   taxiout  cancelled cancellationcode  diverted  carrierdelay  weatherdelay  \\\n",
       "0      NaN        0.0              NaN       0.0           NaN           NaN   \n",
       "1      NaN        0.0              NaN       0.0           NaN           NaN   \n",
       "2      NaN        0.0              NaN       0.0           NaN           NaN   \n",
       "3      NaN        0.0              NaN       0.0           NaN           NaN   \n",
       "4      NaN        0.0              NaN       0.0           NaN           NaN   \n",
       "\n",
       "   nasdelay  securitydelay  lateaircraftdelay  \n",
       "0       NaN            NaN                NaN  \n",
       "1       NaN            NaN                NaN  \n",
       "2       NaN            NaN                NaN  \n",
       "3       NaN            NaN                NaN  \n",
       "4       NaN            NaN                NaN  "
      ]
     },
     "execution_count": 26,
     "metadata": {},
     "output_type": "execute_result"
    }
   ],
   "source": [
    "# load csv files into a dataframe in parallel\n",
    "\n",
    "filename = os.path.join('data', '*.csv')\n",
    "print('Loading', filename, 'files')\n",
    "\n",
    "import dask.dataframe as dd\n",
    "%time df_csv = dd.read_csv(filename,  encoding = \"latin1\", assume_missing=True, \\\n",
    "                           dtype={'TailNum':np.object, 'CancellationCode':np.object}, \\\n",
    "                           storage_options={'anon': True}).rename(columns=str.lower)\n",
    "\n",
    "print(df_csv.dtypes)\n",
    "df_csv.head()"
   ]
  },
  {
   "cell_type": "markdown",
   "metadata": {},
   "source": [
    "When it comes to data mining, we often find that the more data we have, the better the odds are of finding something really useful which can help make (or break) a project. Like the many instances which have come before it, this case has data columns which are simply unusable for the questions we are trying to answer or we are able to simplify them via categorization. "
   ]
  },
  {
   "cell_type": "code",
   "execution_count": 27,
   "metadata": {
    "collapsed": true,
    "deletable": true,
    "editable": true
   },
   "outputs": [],
   "source": [
    "# drop columns we don't need or want\n",
    "df_csv = df_csv.drop(['tailnum', 'actualelapsedtime', 'crselapsedtime', 'airtime', \\\n",
    "             'taxiin', 'taxiout', 'cancelled', 'cancellationcode', \\\n",
    "             'diverted', 'carrierdelay', 'weatherdelay', 'nasdelay', \\\n",
    "             'securitydelay', 'lateaircraftdelay'], axis=1)"
   ]
  },
  {
   "cell_type": "code",
   "execution_count": 28,
   "metadata": {
    "collapsed": false
   },
   "outputs": [
    {
     "data": {
      "text/plain": [
       "year             float64\n",
       "month            float64\n",
       "dayofmonth       float64\n",
       "dayofweek        float64\n",
       "deptime          float64\n",
       "crsdeptime       float64\n",
       "arrtime          float64\n",
       "crsarrtime       float64\n",
       "uniquecarrier     object\n",
       "flightnum        float64\n",
       "arrdelay         float64\n",
       "depdelay         float64\n",
       "origin            object\n",
       "dest              object\n",
       "distance         float64\n",
       "dtype: object"
      ]
     },
     "execution_count": 28,
     "metadata": {},
     "output_type": "execute_result"
    }
   ],
   "source": [
    "df_csv.dtypes"
   ]
  },
  {
   "cell_type": "markdown",
   "metadata": {},
   "source": [
    "Let's execute another sanity check. We know how many records there are _supposed_ to be, so let's see exactly what we're working with here."
   ]
  },
  {
   "cell_type": "code",
   "execution_count": null,
   "metadata": {
    "collapsed": false,
    "deletable": true,
    "editable": true
   },
   "outputs": [
    {
     "data": {
      "text/plain": [
       "'123534969'"
      ]
     },
     "execution_count": 29,
     "metadata": {},
     "output_type": "execute_result"
    }
   ],
   "source": [
    "# length of dataframe\n",
    "\n",
    "number_of_items = len(df_csv)\n",
    "locale.format('%d', number_of_items, grouping=True)"
   ]
  },
  {
   "cell_type": "markdown",
   "metadata": {},
   "source": [
    "All is looking good so far! Now that we know the integrity of the data is unimpeded, we can now start exploring the data a bit deeper and start answering the questions at hand. Let's start with a visualization of the top airports being flown **out of**"
   ]
  },
  {
   "cell_type": "code",
   "execution_count": null,
   "metadata": {
    "collapsed": false,
    "deletable": true,
    "editable": true
   },
   "outputs": [],
   "source": [
    "# Top 10 origin airports\n",
    "\n",
    "origin_counts = df_csv.origin.value_counts().head(10)\n",
    "print('Top origin airports')\n",
    "print(origin_counts)\n",
    "\n",
    "origin_counts.plot(kind='barh', figsize=(8,4), title='Top Origin Airports')"
   ]
  },
  {
   "cell_type": "markdown",
   "metadata": {},
   "source": [
    "Acccording to the chart displayed above, the top three airports with planes leaving are Orlando Florida, Atlanta Georgia, and Dallas Texas."
   ]
  },
  {
   "cell_type": "markdown",
   "metadata": {
    "deletable": true,
    "editable": true
   },
   "source": [
    "[&uarr; ToC](#toc)"
   ]
  },
  {
   "cell_type": "markdown",
   "metadata": {
    "deletable": true,
    "editable": true
   },
   "source": [
    "<a id=Question1></a>\n",
    "## Q1. What airports have the most delayed departures and arrivals?"
   ]
  },
  {
   "cell_type": "markdown",
   "metadata": {},
   "source": [
    "To answer this question, we will need to define exactly what we're looking for with this dataset. Earlier, we declared a flight to be delayed if it leaves or arrives more than 15 minutes after the scheduled time. First, we  will filter out the departures with delays greater than 15 minutes, followed by arrivals which contain the same attributes.\n",
    "\n",
    "A thought experiment to consider: If the airports with the most delayed departures and arrivals do not match, is it safe to assume each of the airports have some underlying issue with launching or receiving aircraft? Let's take a look at the results of the aggregates:"
   ]
  },
  {
   "cell_type": "code",
   "execution_count": 43,
   "metadata": {
    "collapsed": false,
    "deletable": true,
    "editable": true
   },
   "outputs": [
    {
     "name": "stdout",
     "output_type": "stream",
     "text": [
      "Top delayed origin airports\n",
      "ORD    1298630\n",
      "ATL    1118991\n",
      "DFW     936397\n",
      "LAX     627259\n",
      "PHX     591347\n",
      "DEN     542674\n",
      "EWR     491395\n",
      "DTW     482445\n",
      "SFO     470833\n",
      "LAS     455044\n",
      "Name: origin, dtype: int64\n"
     ]
    },
    {
     "data": {
      "text/plain": [
       "<matplotlib.axes._subplots.AxesSubplot at 0x1e6f712c5f8>"
      ]
     },
     "execution_count": 43,
     "metadata": {},
     "output_type": "execute_result"
    },
    {
     "data": {
      "image/png": "[encoded data removed]",
      "text/plain": [
       "<matplotlib.figure.Figure at 0x1e6f712cf60>"
      ]
     },
     "metadata": {},
     "output_type": "display_data"
    }
   ],
   "source": [
    "# Filter departure flights\n",
    "\n",
    "df_delayed_departure = df_csv[df_csv.depdelay > 15]\n",
    "delayed_counts = df_delayed_departure.origin.value_counts().head(10)\n",
    "print('Top delayed origin airports')\n",
    "print(delayed_counts)\n",
    "\n",
    "delayed_counts.plot(kind='barh', figsize=(8,4), title='Top Delayed Origin Airports')"
   ]
  },
  {
   "cell_type": "code",
   "execution_count": 44,
   "metadata": {
    "collapsed": false,
    "deletable": true,
    "editable": true,
    "scrolled": false
   },
   "outputs": [
    {
     "name": "stdout",
     "output_type": "stream",
     "text": [
      "Top delayed destination airports\n",
      "ORD    1433362\n",
      "ATL    1295292\n",
      "DFW     952204\n",
      "LAX     831088\n",
      "EWR     694397\n",
      "SFO     674787\n",
      "DEN     616344\n",
      "PHX     608926\n",
      "LGA     519777\n",
      "LAS     499225\n",
      "Name: dest, dtype: int64\n"
     ]
    },
    {
     "data": {
      "text/plain": [
       "<matplotlib.axes._subplots.AxesSubplot at 0x1e6f0ae15c0>"
      ]
     },
     "execution_count": 44,
     "metadata": {},
     "output_type": "execute_result"
    },
    {
     "data": {
      "image/png": "[encoded data removed]",
      "text/plain": [
       "<matplotlib.figure.Figure at 0x1e6ee440128>"
      ]
     },
     "metadata": {},
     "output_type": "display_data"
    }
   ],
   "source": [
    "# Filter arrival flights\n",
    "\n",
    "df_delayed_arrival = df_csv[df_csv.arrdelay > 15]\n",
    "delayed_counts = df_delayed_arrival.dest.value_counts().head(10)\n",
    "print('Top delayed destination airports')\n",
    "print(delayed_counts)\n",
    "\n",
    "delayed_counts.plot(kind='barh', figsize=(8,4), title='Top Delayed Destination Airports')"
   ]
  },
  {
   "cell_type": "markdown",
   "metadata": {},
   "source": [
    "Lo and behold! The top three airports are in the same order when ranked among top delayed for origin and destination. An interesting observation, however, is not all of the airports are in the same order (or even the same airports). Sure, some of this can be chalked up to the sheer differences in volume that Los Angeles, Atlanta and Orlando experience, but what about the others? Working through the underpinnings of each airport could possibly deliver enough information to build a case to expand each and every one of these airports. But, this is outside the scope of this study. "
   ]
  },
  {
   "cell_type": "markdown",
   "metadata": {
    "deletable": true,
    "editable": true
   },
   "source": [
    "[&uarr; ToC](#toc)"
   ]
  },
  {
   "cell_type": "markdown",
   "metadata": {
    "deletable": true,
    "editable": true
   },
   "source": [
    "<a id = Question2></a>\n",
    "## Q2. What flights are most frequently delayed with same origin and destination?\n",
    "\n",
    "A flight is delayed if it leaves or arrives more than 15 minutes after its scheduled time."
   ]
  },
  {
   "cell_type": "markdown",
   "metadata": {},
   "source": [
    "For this question, we would like to know whether there are some set airline routes which experience delays more than the others. It is safe to assume these routes are established and planned to be the most efficient possible as airliners don't typically send their passengers off into a direction based on the pilot's mood at the time. These routes are carefully planned to maximize fuel, time and airspace."
   ]
  },
  {
   "cell_type": "code",
   "execution_count": 54,
   "metadata": {
    "collapsed": false
   },
   "outputs": [
    {
     "data": {
      "text/html": [
       "<div>\n",
       "<style>\n",
       "    .dataframe thead tr:only-child th {\n",
       "        text-align: right;\n",
       "    }\n",
       "\n",
       "    .dataframe thead th {\n",
       "        text-align: left;\n",
       "    }\n",
       "\n",
       "    .dataframe tbody tr th {\n",
       "        vertical-align: top;\n",
       "    }\n",
       "</style>\n",
       "<table border=\"1\" class=\"dataframe\">\n",
       "  <thead>\n",
       "    <tr style=\"text-align: right;\">\n",
       "      <th></th>\n",
       "      <th>year</th>\n",
       "      <th>month</th>\n",
       "      <th>dayofmonth</th>\n",
       "      <th>dayofweek</th>\n",
       "      <th>deptime</th>\n",
       "      <th>crsdeptime</th>\n",
       "      <th>arrtime</th>\n",
       "      <th>crsarrtime</th>\n",
       "      <th>uniquecarrier</th>\n",
       "      <th>flightnum</th>\n",
       "      <th>arrdelay</th>\n",
       "      <th>depdelay</th>\n",
       "      <th>origin</th>\n",
       "      <th>dest</th>\n",
       "      <th>distance</th>\n",
       "    </tr>\n",
       "  </thead>\n",
       "  <tbody>\n",
       "    <tr>\n",
       "      <th>0</th>\n",
       "      <td>1987.0</td>\n",
       "      <td>10.0</td>\n",
       "      <td>14.0</td>\n",
       "      <td>3.0</td>\n",
       "      <td>741.0</td>\n",
       "      <td>730.0</td>\n",
       "      <td>912.0</td>\n",
       "      <td>849.0</td>\n",
       "      <td>PS</td>\n",
       "      <td>1451.0</td>\n",
       "      <td>23.0</td>\n",
       "      <td>11.0</td>\n",
       "      <td>SAN</td>\n",
       "      <td>SFO</td>\n",
       "      <td>447.0</td>\n",
       "    </tr>\n",
       "    <tr>\n",
       "      <th>2</th>\n",
       "      <td>1987.0</td>\n",
       "      <td>10.0</td>\n",
       "      <td>17.0</td>\n",
       "      <td>6.0</td>\n",
       "      <td>741.0</td>\n",
       "      <td>730.0</td>\n",
       "      <td>918.0</td>\n",
       "      <td>849.0</td>\n",
       "      <td>PS</td>\n",
       "      <td>1451.0</td>\n",
       "      <td>29.0</td>\n",
       "      <td>11.0</td>\n",
       "      <td>SAN</td>\n",
       "      <td>SFO</td>\n",
       "      <td>447.0</td>\n",
       "    </tr>\n",
       "    <tr>\n",
       "      <th>4</th>\n",
       "      <td>1987.0</td>\n",
       "      <td>10.0</td>\n",
       "      <td>19.0</td>\n",
       "      <td>1.0</td>\n",
       "      <td>749.0</td>\n",
       "      <td>730.0</td>\n",
       "      <td>922.0</td>\n",
       "      <td>849.0</td>\n",
       "      <td>PS</td>\n",
       "      <td>1451.0</td>\n",
       "      <td>33.0</td>\n",
       "      <td>19.0</td>\n",
       "      <td>SAN</td>\n",
       "      <td>SFO</td>\n",
       "      <td>447.0</td>\n",
       "    </tr>\n",
       "    <tr>\n",
       "      <th>8</th>\n",
       "      <td>1987.0</td>\n",
       "      <td>10.0</td>\n",
       "      <td>24.0</td>\n",
       "      <td>6.0</td>\n",
       "      <td>744.0</td>\n",
       "      <td>730.0</td>\n",
       "      <td>908.0</td>\n",
       "      <td>849.0</td>\n",
       "      <td>PS</td>\n",
       "      <td>1451.0</td>\n",
       "      <td>19.0</td>\n",
       "      <td>14.0</td>\n",
       "      <td>SAN</td>\n",
       "      <td>SFO</td>\n",
       "      <td>447.0</td>\n",
       "    </tr>\n",
       "    <tr>\n",
       "      <th>11</th>\n",
       "      <td>1987.0</td>\n",
       "      <td>10.0</td>\n",
       "      <td>28.0</td>\n",
       "      <td>3.0</td>\n",
       "      <td>741.0</td>\n",
       "      <td>725.0</td>\n",
       "      <td>919.0</td>\n",
       "      <td>855.0</td>\n",
       "      <td>PS</td>\n",
       "      <td>1451.0</td>\n",
       "      <td>24.0</td>\n",
       "      <td>16.0</td>\n",
       "      <td>SAN</td>\n",
       "      <td>SFO</td>\n",
       "      <td>447.0</td>\n",
       "    </tr>\n",
       "  </tbody>\n",
       "</table>\n",
       "</div>"
      ],
      "text/plain": [
       "      year  month  dayofmonth  dayofweek  deptime  crsdeptime  arrtime  \\\n",
       "0   1987.0   10.0        14.0        3.0    741.0       730.0    912.0   \n",
       "2   1987.0   10.0        17.0        6.0    741.0       730.0    918.0   \n",
       "4   1987.0   10.0        19.0        1.0    749.0       730.0    922.0   \n",
       "8   1987.0   10.0        24.0        6.0    744.0       730.0    908.0   \n",
       "11  1987.0   10.0        28.0        3.0    741.0       725.0    919.0   \n",
       "\n",
       "    crsarrtime uniquecarrier  flightnum  arrdelay  depdelay origin dest  \\\n",
       "0        849.0            PS     1451.0      23.0      11.0    SAN  SFO   \n",
       "2        849.0            PS     1451.0      29.0      11.0    SAN  SFO   \n",
       "4        849.0            PS     1451.0      33.0      19.0    SAN  SFO   \n",
       "8        849.0            PS     1451.0      19.0      14.0    SAN  SFO   \n",
       "11       855.0            PS     1451.0      24.0      16.0    SAN  SFO   \n",
       "\n",
       "    distance  \n",
       "0      447.0  \n",
       "2      447.0  \n",
       "4      447.0  \n",
       "8      447.0  \n",
       "11     447.0  "
      ]
     },
     "execution_count": 54,
     "metadata": {},
     "output_type": "execute_result"
    }
   ],
   "source": [
    "# Filter the dataset to delayed flights\n",
    "\n",
    "df_filtered = df_csv.loc[(df_csv.arrdelay > 15) or (df_csv.depdelay > 15)]\n",
    "df_filtered.head()"
   ]
  },
  {
   "cell_type": "code",
   "execution_count": 57,
   "metadata": {
    "collapsed": false
   },
   "outputs": [],
   "source": [
    "# categorize appropriate columns\n",
    "\n",
    "object_columns = ['origin', 'dest', 'flightnum']\n",
    "for i in object_columns:\n",
    "    df_filtered[i] = df_filtered[i].astype('category')\n",
    "\n",
    "df_filtered = df_filtered.categorize()"
   ]
  },
  {
   "cell_type": "code",
   "execution_count": 58,
   "metadata": {
    "collapsed": false
   },
   "outputs": [
    {
     "data": {
      "text/plain": [
       "year              float64\n",
       "month             float64\n",
       "dayofmonth        float64\n",
       "dayofweek         float64\n",
       "deptime           float64\n",
       "crsdeptime        float64\n",
       "arrtime           float64\n",
       "crsarrtime        float64\n",
       "uniquecarrier    category\n",
       "flightnum        category\n",
       "arrdelay          float64\n",
       "depdelay          float64\n",
       "origin           category\n",
       "dest             category\n",
       "distance          float64\n",
       "dtype: object"
      ]
     },
     "execution_count": 58,
     "metadata": {},
     "output_type": "execute_result"
    }
   ],
   "source": [
    "df_filtered.dtypes"
   ]
  },
  {
   "cell_type": "code",
   "execution_count": 61,
   "metadata": {
    "collapsed": false,
    "deletable": true,
    "editable": true,
    "scrolled": false
   },
   "outputs": [
    {
     "data": {
      "text/plain": [
       "origin  dest  flightnum\n",
       "JFK     LAX   21.0         3024\n",
       "DTW     LAX   337.0        2389\n",
       "SEA     KTN   69.0         2227\n",
       "HOU     DAL   54.0         2208\n",
       "JFK     LAX   29.0         2199\n",
       "SFO     JFK   16.0         2134\n",
       "JNU     PSG   64.0         2129\n",
       "SEA     ANC   85.0         2110\n",
       "DTW     SFO   345.0        2109\n",
       "              343.0        2103\n",
       "ATL     SEA   197.0        2072\n",
       "SFO     JFK   18.0         2068\n",
       "DTW     LAS   1195.0       2047\n",
       "JFK     SFO   177.0        2033\n",
       "DAL     HOU   47.0         2023\n",
       "Name: flightnum, dtype: int64"
      ]
     },
     "execution_count": 61,
     "metadata": {},
     "output_type": "execute_result"
    }
   ],
   "source": [
    "# Group filtered dataset by origin, dest, and flightnum\n",
    "\n",
    "grp = df_filtered.groupby(['origin', 'dest', 'flightnum']).flightnum.count().nlargest(15)\n",
    "\n",
    "grp.head(15)"
   ]
  },
  {
   "cell_type": "code",
   "execution_count": 63,
   "metadata": {
    "collapsed": false,
    "deletable": true,
    "editable": true
   },
   "outputs": [
    {
     "data": {
      "text/plain": [
       "<matplotlib.axes._subplots.AxesSubplot at 0x1e68f63da90>"
      ]
     },
     "execution_count": 63,
     "metadata": {},
     "output_type": "execute_result"
    },
    {
     "data": {
      "image/png": "[encoded data removed]",
      "text/plain": [
       "<matplotlib.figure.Figure at 0x1e68e5dbcc0>"
      ]
     },
     "metadata": {},
     "output_type": "display_data"
    }
   ],
   "source": [
    "# Plot results\n",
    "\n",
    "grp.head(15).plot(kind='barh', figsize=(8,4), \\\n",
    "                  title='Top Delayed Flights with Same Origin and Destination Airports')"
   ]
  },
  {
   "cell_type": "markdown",
   "metadata": {},
   "source": [
    "As we can see, the most delayed route starts from John F. Kennedy airport in New York to Los Angeles International in California while the second-most delayed route is from Detroit to Los Angeles. From what was observed earlier, we know LAX experiences it's fair share of delays. Little did we know it tops the charts when it comes to chronically delayed routes!"
   ]
  },
  {
   "cell_type": "markdown",
   "metadata": {},
   "source": [
    "<div style = 'color:red'>\n",
    "<h3><b>&uarr; Let's beef this section up a bit. Feels light &uarr;</b></h3><div>"
   ]
  },
  {
   "cell_type": "markdown",
   "metadata": {
    "deletable": true,
    "editable": true
   },
   "source": [
    "[&uarr; ToC](#toc)"
   ]
  },
  {
   "cell_type": "markdown",
   "metadata": {
    "deletable": true,
    "editable": true
   },
   "source": [
    "<a id=Question3></a>\n",
    "## Q3. Can you predict a flight's delayed time in minutes?\n",
    "\n",
    "The goal of this section is to create a model we will be able to use with relative success in predicting these flight delays. Some confounding variables which will not be able to be added are variables such as the weather. It is well-known the weather (at this time) cannot be accurately predicted further out than a week. Of course, there are multiple underlying variables when we say \"weather\" such as the average windspeed for the day for the region or even the specific precipitation experienced. Until mankind is able to accurately predict the weather, we will never have a perfect model. \n",
    "\n",
    "However, there are some variables not explicitly included in the data which are highly influential, one being the holidays and the days which surround them. To better utilize the effect this variable has on delays, we will create a variable named `hdays` to indicate how many days lie between the flight event date and the nearest holiday(s). This is only one variable of potentially many which would serve our purpose well, but more time would be needed to adequately explore these other options. \n",
    "\n",
    "It is to be noted this method was borrowed from the following:\n",
    "\n",
    "[&darr; we should probably add this to the end &darr;](#biblio)\n",
    "\n",
    "The work is borrowed from \n",
    "> `https://jessesw.com/Air-Delays/`,  \n",
    "> `https://gist.github.com/mrocklin/19c89d78e34437e061876a9872f4d2df`, and \n",
    "> `https://github.com/dmlc/xgboost/blob/master/demo/guide-python/sklearn_examples.py`."
   ]
  },
  {
   "cell_type": "code",
   "execution_count": null,
   "metadata": {
    "collapsed": true,
    "deletable": true,
    "editable": true
   },
   "outputs": [],
   "source": [
    "# Function to determine the difference between flight date and nearest holiday.\n",
    "# see https://jessesw.com/Air-Delays/\n",
    "\n",
    "from pandas.tseries.holiday import USFederalHolidayCalendar\n",
    "cal = USFederalHolidayCalendar()\n",
    "holidays = cal.holidays(start='1987-01-01', end='2008-12-31').to_pydatetime()\n",
    "\n",
    "from datetime import date, datetime, timedelta\n",
    "\n",
    "def days_until_holiday(d):\n",
    "    ans = timedelta(100000)\n",
    "    for i in range(len(holidays)):\n",
    "        candidate = abs(holidays[i]-d)\n",
    "        if candidate < ans:\n",
    "            ans = candidate\n",
    "    return(float(ans.days))\n",
    "\n",
    "#assert(days_until_holiday(datetime(2001, 1, 1))==0)\n",
    "#assert(days_until_holiday(datetime(2009, 1, 1))==7)"
   ]
  },
  {
   "cell_type": "markdown",
   "metadata": {},
   "source": [
    "From here, we will want to get rid of the NA values as they become useless within our model. "
   ]
  },
  {
   "cell_type": "code",
   "execution_count": null,
   "metadata": {
    "collapsed": false,
    "deletable": true,
    "editable": true
   },
   "outputs": [],
   "source": [
    "# random sample of data (features)\n",
    "df = df_csv.sample(frac=0.005)\n",
    "\n",
    "# drop rows with NaN\n",
    "prev_count = len(df)\n",
    "df = df.dropna()\n",
    "number_of_items = len(df)\n",
    "\n",
    "# target data\n",
    "y = df.depdelay\n",
    "\n",
    "df = df.drop(['depdelay'], axis=1)\n",
    "\n",
    "df, y = persist(df, y)\n",
    "progress(df, y)\n",
    "\n",
    "print('dropped %s percent of rows with NA' % locale.format('%.2f', prev_count/number_of_items))"
   ]
  },
  {
   "cell_type": "markdown",
   "metadata": {},
   "source": [
    "While NAs do have a tendency to plague many datasets, it is extremely helpful to put into perspective just how many NA values will be dropped and how this will affect the results. In this case, only 1.02% of the entire dataset will be affected. Not much when it comes to the grand-scheme of things!\n",
    "\n",
    "Now, let's take a look and see what the new length of the sampled dataframe is:"
   ]
  },
  {
   "cell_type": "code",
   "execution_count": null,
   "metadata": {
    "collapsed": false
   },
   "outputs": [],
   "source": [
    "# length of dataframe\n",
    "\n",
    "number_of_items = len(df)\n",
    "locale.format('%d', number_of_items, grouping=True)"
   ]
  },
  {
   "cell_type": "code",
   "execution_count": null,
   "metadata": {
    "collapsed": false,
    "deletable": true,
    "editable": true
   },
   "outputs": [],
   "source": [
    "# Using apply is slow. Need to see if there is a faster way.\n",
    "\n",
    "# create days from nearest holiday column\n",
    "df['hdays'] = df.apply(lambda r: days_until_holiday(datetime(int(r.year), int(r.month), int(r.dayofmonth))),\n",
    "                               meta=float, axis=1)\n",
    "df.head()"
   ]
  },
  {
   "cell_type": "markdown",
   "metadata": {},
   "source": [
    "We still have attributes which are completely useless for this exercise. Let's get rid of them and categorize the rest!"
   ]
  },
  {
   "cell_type": "code",
   "execution_count": null,
   "metadata": {
    "collapsed": false,
    "deletable": true,
    "editable": true,
    "scrolled": true
   },
   "outputs": [],
   "source": [
    "# drop columns we don't need or want\n",
    "df = df.drop(['deptime', 'arrtime', 'flightnum'], axis=1)"
   ]
  },
  {
   "cell_type": "code",
   "execution_count": null,
   "metadata": {
    "collapsed": true,
    "deletable": true,
    "editable": true
   },
   "outputs": [],
   "source": [
    "# categorize appropriate columns\n",
    "\n",
    "object_columns = ['uniquecarrier', 'origin', 'dest', 'year', 'month', 'dayofmonth', 'dayofweek']\n",
    "for i in object_columns:\n",
    "    df[i] = df[i].astype('category')\n",
    "\n",
    "df = df.categorize()"
   ]
  },
  {
   "cell_type": "code",
   "execution_count": null,
   "metadata": {
    "collapsed": false,
    "deletable": true,
    "editable": true
   },
   "outputs": [],
   "source": [
    "df.dtypes"
   ]
  },
  {
   "cell_type": "code",
   "execution_count": null,
   "metadata": {
    "collapsed": false,
    "deletable": true,
    "editable": true
   },
   "outputs": [],
   "source": [
    "df.head()"
   ]
  },
  {
   "cell_type": "code",
   "execution_count": null,
   "metadata": {
    "collapsed": false,
    "deletable": true,
    "editable": true
   },
   "outputs": [],
   "source": [
    "y.head()"
   ]
  },
  {
   "cell_type": "markdown",
   "metadata": {
    "deletable": true,
    "editable": true
   },
   "source": [
    "## One hot encode"
   ]
  },
  {
   "cell_type": "code",
   "execution_count": null,
   "metadata": {
    "collapsed": false,
    "deletable": true,
    "editable": true
   },
   "outputs": [],
   "source": [
    "X = dd.get_dummies(df.categorize())"
   ]
  },
  {
   "cell_type": "code",
   "execution_count": null,
   "metadata": {
    "collapsed": false,
    "deletable": true,
    "editable": true
   },
   "outputs": [],
   "source": [
    "X.describe().compute()"
   ]
  },
  {
   "cell_type": "code",
   "execution_count": null,
   "metadata": {
    "collapsed": false,
    "deletable": true,
    "editable": true
   },
   "outputs": [],
   "source": [
    "len(X.columns)"
   ]
  },
  {
   "cell_type": "code",
   "execution_count": null,
   "metadata": {
    "collapsed": false,
    "deletable": true,
    "editable": true,
    "scrolled": true
   },
   "outputs": [],
   "source": [
    "X.head()"
   ]
  },
  {
   "cell_type": "markdown",
   "metadata": {
    "deletable": true,
    "editable": true
   },
   "source": [
    "[&uarr; ToC](#toc)"
   ]
  },
  {
   "cell_type": "markdown",
   "metadata": {
    "deletable": true,
    "editable": true
   },
   "source": [
    "## Split and Train"
   ]
  },
  {
   "cell_type": "code",
   "execution_count": null,
   "metadata": {
    "collapsed": false,
    "deletable": true,
    "editable": true
   },
   "outputs": [],
   "source": [
    "data_train, data_test = X.random_split([0.9, 0.1], random_state=1234)\n",
    "labels_train, labels_test = y.random_split([0.9, 0.1], random_state=1234)\n",
    "\n",
    "data_train, data_test, labels_train, labels_test = persist(data_train, data_test, labels_train, labels_test)"
   ]
  },
  {
   "cell_type": "markdown",
   "metadata": {
    "deletable": true,
    "editable": true
   },
   "source": [
    "## Model"
   ]
  },
  {
   "cell_type": "markdown",
   "metadata": {},
   "source": [
    "Something is happening here with my memory. May need to return to this "
   ]
  },
  {
   "cell_type": "code",
   "execution_count": null,
   "metadata": {
    "collapsed": false,
    "deletable": true,
    "editable": true
   },
   "outputs": [],
   "source": [
    "from sklearn.linear_model import LinearRegression\n",
    "\n",
    "model = LinearRegression(n_jobs=4)\n",
    "%time model.fit(data_train, labels_train)"
   ]
  },
  {
   "cell_type": "code",
   "execution_count": null,
   "metadata": {
    "collapsed": false,
    "deletable": true,
    "editable": true
   },
   "outputs": [],
   "source": [
    "from sklearn.metrics import mean_absolute_error\n",
    "    \n",
    "y_true, y_pred = labels_test, model.predict(data_test)\n",
    "    \n",
    "print('Mean absolute error of regression was:')\n",
    "print(locale.format('%.1f', mean_absolute_error(y_true, y_pred), grouping=True))"
   ]
  },
  {
   "cell_type": "code",
   "execution_count": null,
   "metadata": {
    "collapsed": true,
    "deletable": true,
    "editable": true
   },
   "outputs": [],
   "source": []
  },
  {
   "cell_type": "code",
   "execution_count": null,
   "metadata": {
    "collapsed": true,
    "deletable": true,
    "editable": true
   },
   "outputs": [],
   "source": []
  },
  {
   "cell_type": "code",
   "execution_count": null,
   "metadata": {
    "collapsed": true,
    "deletable": true,
    "editable": true
   },
   "outputs": [],
   "source": []
  },
  {
   "cell_type": "markdown",
   "metadata": {
    "deletable": true,
    "editable": true
   },
   "source": [
    "### Alternate Approach with Javascript\n",
    "\n",
    "We explored various options for processing the data. One method we explored was using Javascript to mine the basic elements from the data as each record was read from each file.  The core object contained COUNT, MIN, MAX, SUM, and SUMSQ (sum of squares) properties.  Each variable of interest was instantiated as a core object, with the collection of variables being a FLTSTATS object.  Various groups of interest were then created as instantiations of the FLTSTATS object.  The end result was a Javascript object with the components necessary for computing basic statistics for all variables of interest in a variety of groupings:\n",
    "\n",
    "* byYear[1987-2008]\n",
    "* byYear[1987-2008].byMonth[1-12]\n",
    "* byYear[1987-2008].byMonth[1-12].byDate[1-31]\n",
    "* byYear[1987-2008].byMonth[1-12].byWeekday[1-7]\n",
    "* byYear[1987-2008].byDay[1-366]\n",
    "* byYear[1987-2008].byWeekday[1-7]\n",
    "* byYear[1987-2008].byWeek[1-53]\n",
    "* byYear[1987-2008].byWeek[1-53].byWeekday[1-7]\n",
    "* byMonth[1-12]\n",
    "* byMonth[1-12].byDate[1-31]\n",
    "* byMonth[1-12].byWeekday[1-7]\n",
    "* byWeek[1-53]\n",
    "* byWeek[1-53].byWeekday[1-7]\n",
    "* byWeekday[1-7]\n",
    "* byWeekday[1-7].byHour[0-24]\n",
    "* byDay[1-366]\n",
    "* byDate[1-31]\n",
    "* byHour[0-24]\n",
    "* byCarrier[]\n",
    "* byCarrier[].byYear[1987-2008]\n",
    "* byCarrier[].byYear[1987-2008].byMonth[1-12]\n",
    "* byCarrier[].byMonth[1-12]\n",
    "* byCarrier[].byMonth[1-12].byDate[1-31]\n",
    "* byCarrier[].byDay[1-366]\n",
    "* byCarrier[].byDate[1-31]\n",
    "\n",
    "Each element in this structure is a core object updated as the record were read from the source files.  We could then compute means, variances, standard deviations, standard errors, and confidence intervals for the means for any of the above groupings.\n",
    "\n",
    "We then attempted to answer as many of the questions posed in the case study as we could."
   ]
  },
  {
   "cell_type": "markdown",
   "metadata": {
    "deletable": true,
    "editable": true
   },
   "source": [
    "<a id=\"results\"></a>\n",
    "## 4 - Results\n",
    "\n",
    "<div style='margin-left:10%;margin-right:10%;margin-top:15px;background-color:#d3d3d3;padding:10px;'>\n",
    "<h3>Results (<b>30 points total</b>)</h3>"
   ]
  },
  {
   "cell_type": "markdown",
   "metadata": {
    "deletable": true,
    "editable": true
   },
   "source": [
    "### Discuss results of Dask"
   ]
  },
  {
   "cell_type": "markdown",
   "metadata": {
    "deletable": true,
    "editable": true
   },
   "source": [
    "### Discuss results of gl-create"
   ]
  },
  {
   "cell_type": "markdown",
   "metadata": {
    "deletable": true,
    "editable": true
   },
   "source": [
    "### Results from Javascript Data Mining\n",
    "\n",
    "#### Question 3 - How many flights per day of the week?\n",
    "<img src=\"charts\\Q3.png\">\n",
    "* Saturdays had the least number of flights\n",
    "* Mondays had the most number of flights\n",
    "\n",
    "#### Question 4 - For each year, how many flights per day of the week?\n",
    "<img src=\"charts\\Q4.png\">\n",
    "* 1987 contained data only for Oct-Dec, so those numbers are small\n",
    "* We see the general trend of increasing flights as the years increased\n",
    "* We see the low numbers for Saturday flights indicated from Question 3\n",
    "* We see the drastic decline in 2002 as a result of 9/11\n",
    "* We see the drop in 2008 due to economic decline\n",
    "\n",
    "#### Question 5 - For each year, how many tail numbers are \"NA\"?\n",
    "<img src=\"charts\\Q5.png\">\n",
    "* Low count in 1987 because of the truncated reporting (Oct-Dec)\n",
    "* From 1995 on, all tail numbers were reported\n",
    "\n",
    "#### Question 6 - Which year had the greatest proportion of late flights?\n",
    "<img src=\"charts\\Q6.png\">\n",
    "* Even though 1987 only covered the final quarter of the year, it had the highest proportion of late arrivals than any other year (61.6%)\n",
    "* 2003 had the smallest proportion of late arrivals (37.6%)\n",
    "* 2002 had the greatest proportion of early arrivals (56%)\n",
    "* 2001 had the greatest proportion of on-time arrivals (8%)\n",
    "\n",
    "#### Question 7 - Which flight day is best for minimizing departure delays? Which time of day?\n",
    "<img src=\"charts\\Q7B.png\">\n",
    "* This data is grouped by day of year\n",
    "  * The winter holiday period had the greatest mean departure delays (approaching 20 minutes)\n",
    "  * There is also a spike during the middle of summer\n",
    "  * Fall is a good time of year to travel\n",
    "  \n",
    "<img src=\"charts\\Q7D.png\">\n",
    "* This data is grouped by day of month\n",
    "  * It appears that the 7th of the month had the smallest mean departure delay (about 7 minutes)\n",
    "  * The 22nd of the month had the largest mean departure delay (over 9 minutes)\n",
    "  \n",
    "<img src=\"charts\\Q7F.png\">\n",
    "* This data is grouped by day of the week\n",
    "  * Tuesdays had the smallest mean departure delay (6.5 minutes), followed closely by Saturdays\n",
    "  * Fridays had the largest mean departure delay (almost 10 minutes)\n",
    "  \n",
    "<img src=\"charts\\Q7H.png\">\n",
    "* This data is grouped by hour of the day\n",
    "  * 7AM had the smallest mean departure delay (over 2 minutes), and we see the delay steadily increase as the day progresses\n",
    "  * 10PM (2200 hrs) had the highest consistent mean departure delay (over 13 minutes)\n",
    "  * The large confidence interval for 24 is due to the fact that a few departures were listed as hour 24 instead of hour 00\n",
    "\n",
    "#### Question 8 - Which is the best day of the week to fly?\n",
    "<img src=\"charts\\Q8.png\">\n",
    "* Saturdays had the smallest percentage of late arrivals (41.7%) and the greatest percentage of early arrivals (52.3%)\n",
    "* Friday had the greatest percentage of late arrivals (51.3%) and the smallest percentage of early arrivals (42.4%)\n",
    "\n",
    "#### Question 9 - Which is the best day of the month to fly?\n",
    "<img src=\"charts\\Q9.png\">\n",
    "* The 31st of the month had the smallest percentage of late arrivals (44.8%) and the highest percentage of early arrivals (49%)\n",
    "* The 22nd of the month had the highest percentage of late arrivals (49.1%)\n",
    "\n",
    "#### Question 10 - Are flights given more time to reach their destination in later years?\n",
    "For this question, we looked at the ratio of the scheduled duration to the distance travelled.  If this ratio increases, then more time is given to the scheduled duration for the same distance.\n",
    "\n",
    "<img src=\"charts\\Q10A.png\">\n",
    "* There appears to be a spike around 1990, but a return to a lower and consistent value after that period\n",
    "* There are many records with no data\n",
    "\n",
    "We then looked at year and month to see if the spike could be explained better.\n",
    "<img src=\"charts\\Q10B.png\">\n",
    "* We see an increase in the winter of 1989-1990 (Nov-Feb)\n",
    "* There is no other indication that scheduled duration increased in later years\n",
    "\n",
    "#### Question 14 - How much does weather delay contribute to arrival delay?\n",
    "<img src=\"charts\\Q14A.png\">\n",
    "* Overall, weather accounts for only about 3% of total arrival delay\n",
    "* September has the highest percentage (over 4%)\n",
    "* March and April have the smallest percentage (about 2.5%)\n",
    "\n",
    "Weather is only one contributor to arrival delay, so we plotted the other contributors specified in the data\n",
    "<img src=\"charts\\Q14B.png\">\n",
    "* In addition to increased weather delays, September also seems to be the month in which the other factors also increase.\n",
    "* Security delays contribute only a fraction of a percentage to overall arrival delay\n",
    "\n",
    "We were also interested in looking at some metrics for specific air carriers\n",
    "\n",
    "#### Question: What is the average arrival/departure delay per carrier?\n",
    "<img src=\"charts\\C1.png\">\n",
    "* Hawaiian Airlines (HA) had mean delays below 0!\n",
    "* Aloha Airlines (AQ) had mean delays between 1-2 minutes\n",
    "* Mean arrival delay for all carriers was 7.6 minutes\n",
    "* Mean departure delay for all carriers was 10.45 minutes\n",
    "* Eastern Airlines (EA) had the largest mean departure delay (over 35 minutes)\n",
    "\n",
    "#### Question: Which carrier had the most/least cancellations/diverts?\n",
    "<img src=\"charts\\C2.png\">\n",
    "* Because of the wide range in results, we used a logarithmic scale for the y-axis\n",
    "* Aloha Airlines (AQ) had the least number of diverts (about 40), with American Airlines (AA) having the most (over 40,000!)\n",
    "* Pacific Southwest Airlines (PS) had the least number of cancellations (just over 1100), and United Airlines (UA) had the most (nearly 300,000!)\n",
    "* The mean number of diverts is just below 10,000\n",
    "* The mean number of cancellations is just over 90,000\n",
    "\n",
    "#### Question: Which carriers had the best/worst arrival delays?\n",
    "<img src=\"charts\\C3.png\">\n",
    "* Hawaiian Airlines (HA) had the smallest percentage of late arrivals (24.9%) and the highest percentage of early arrivals (70.4%)\n",
    "* Piedmont Aviation (PI) had the most late arrivals (66.8%)\n",
    "* Midway Airlines (ML(1)) had the best on-time record at 12.7%\n",
    "\n",
    "#### Question: Which carriers had the best/worst departure delays?\n",
    "<img src=\"charts\\C4.png\">\n",
    "* Hawaiian Airlines (HA) also had the smallest percentage of late departures (17.4%) and the highest percentage of early departures (77.7%)\n",
    "* Eastern Airlines (EA) and Midway Airlines (ML(1)) had the best on-time departure percentage (76.5% and 76.2% respectively)\n",
    "* Piedmont Aviation (PI) had the highest percentage of late departures (63.9%), which may have contributed to their high late arrival percentages."
   ]
  },
  {
   "cell_type": "markdown",
   "metadata": {
    "deletable": true,
    "editable": true
   },
   "source": [
    "### Talk about how they all tie in (cross validation)"
   ]
  },
  {
   "cell_type": "markdown",
   "metadata": {
    "deletable": true,
    "editable": true
   },
   "source": [
    "[&uarr; ToC](#toc)"
   ]
  },
  {
   "cell_type": "markdown",
   "metadata": {
    "deletable": true,
    "editable": true
   },
   "source": [
    "<a id=\"conclusion\"></a>\n",
    "## 5 - Conclusion\n",
    "\n",
    "<div style='margin-left:10%;margin-right:10%;margin-top:15px;background-color:#d3d3d3;padding:10px;'>\n",
    "<h3>Conclusion (<b>5 points total</b>)</h3>"
   ]
  },
  {
   "cell_type": "markdown",
   "metadata": {
    "deletable": true,
    "editable": true
   },
   "source": [
    "### what did we find and how did we answer all of the questions? "
   ]
  },
  {
   "cell_type": "markdown",
   "metadata": {
    "deletable": true,
    "editable": true
   },
   "source": [
    "[&uarr; ToC](#toc)"
   ]
  },
  {
   "cell_type": "markdown",
   "metadata": {
    "deletable": true,
    "editable": true
   },
   "source": [
    "<a id=\"biblio\"></a>\n",
    "## 6 - Bibliography and Citation\n",
    "\n",
    "<div style='margin-left:10%;margin-right:10%;margin-top:15px;background-color:#d3d3d3;padding:10px;'>\n",
    "<h3>Bibliography and Citation (<b>5 points total</b>)</h3>\n",
    "</div>"
   ]
  },
  {
   "cell_type": "markdown",
   "metadata": {
    "deletable": true,
    "editable": true
   },
   "source": [
    "[&uarr; ToC](#toc)"
   ]
  },
  {
   "cell_type": "markdown",
   "metadata": {
    "deletable": true,
    "editable": true
   },
   "source": [
    "<a id=\"code\"></a>\n",
    "## 7 - Code\n",
    "\n",
    "<div style='margin-left:10%;margin-right:10%;margin-top:15px;background-color:#d3d3d3;padding:10px;'>\n",
    "<h3>Code (5 points)</h3>\n",
    "</div>"
   ]
  },
  {
   "cell_type": "markdown",
   "metadata": {
    "deletable": true,
    "editable": true
   },
   "source": [
    "[&uarr; ToC](#toc)"
   ]
  },
  {
   "cell_type": "markdown",
   "metadata": {
    "deletable": true,
    "editable": true
   },
   "source": []
  },
  {
   "cell_type": "markdown",
   "metadata": {
    "deletable": true,
    "editable": true
   },
   "source": []
  },
  {
   "cell_type": "markdown",
   "metadata": {
    "deletable": true,
    "editable": true
   },
   "source": []
  },
  {
   "cell_type": "markdown",
   "metadata": {
    "deletable": true,
    "editable": true
   },
   "source": []
  },
  {
   "cell_type": "markdown",
   "metadata": {
    "deletable": true,
    "editable": true
   },
   "source": []
  },
  {
   "cell_type": "markdown",
   "metadata": {
    "deletable": true,
    "editable": true
   },
   "source": []
  }
 ],
 "metadata": {
  "kernelspec": {
   "display_name": "Python 3",
   "language": "python",
   "name": "python3"
  },
  "language_info": {
   "codemirror_mode": {
    "name": "ipython",
    "version": 3
   },
   "file_extension": ".py",
   "mimetype": "text/x-python",
   "name": "python",
   "nbconvert_exporter": "python",
   "pygments_lexer": "ipython3",
   "version": "3.6.0"
  }
 },
 "nbformat": 4,
 "nbformat_minor": 2
}
